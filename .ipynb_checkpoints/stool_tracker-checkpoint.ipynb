{
 "cells": [
  {
   "cell_type": "code",
   "execution_count": 35,
   "id": "c7c656fa",
   "metadata": {},
   "outputs": [],
   "source": [
    "import pandas as pd\n",
    "import matplotlib.pyplot as plt\n",
    "import matplotlib.dates as mdates"
   ]
  },
  {
   "cell_type": "code",
   "execution_count": 36,
   "id": "fbc06cdb",
   "metadata": {},
   "outputs": [],
   "source": [
    "csv_path = './export.csv'"
   ]
  },
  {
   "cell_type": "code",
   "execution_count": 37,
   "id": "7b071f8e",
   "metadata": {},
   "outputs": [
    {
     "data": {
      "text/html": [
       "<div>\n",
       "<style scoped>\n",
       "    .dataframe tbody tr th:only-of-type {\n",
       "        vertical-align: middle;\n",
       "    }\n",
       "\n",
       "    .dataframe tbody tr th {\n",
       "        vertical-align: top;\n",
       "    }\n",
       "\n",
       "    .dataframe thead th {\n",
       "        text-align: right;\n",
       "    }\n",
       "</style>\n",
       "<table border=\"1\" class=\"dataframe\">\n",
       "  <thead>\n",
       "    <tr style=\"text-align: right;\">\n",
       "      <th></th>\n",
       "      <th>Date</th>\n",
       "      <th>Tipo</th>\n",
       "      <th>Colore</th>\n",
       "      <th>Nastriformi?</th>\n",
       "      <th>Meteorismo</th>\n",
       "      <th>Altri sintomi</th>\n",
       "      <th>Numero evacuazioni</th>\n",
       "      <th>Name</th>\n",
       "      <th>Farmaci (da &lt;12h)</th>\n",
       "      <th>Variazioni nella dieta (ultime 24h)</th>\n",
       "    </tr>\n",
       "  </thead>\n",
       "  <tbody>\n",
       "    <tr>\n",
       "      <th>0</th>\n",
       "      <td>October 17, 2022 21:48</td>\n",
       "      <td>5- Frammenti morbidi con bordi ben definiti</td>\n",
       "      <td>Marrone</td>\n",
       "      <td>No</td>\n",
       "      <td>No</td>\n",
       "      <td>Borborigmi</td>\n",
       "      <td>1.0</td>\n",
       "      <td>17/10 21:48</td>\n",
       "      <td>Enterolactis Plus, VLS#3, Valpinax</td>\n",
       "      <td>Eliminati cibi integrali, Eliminato caffè, Eli...</td>\n",
       "    </tr>\n",
       "    <tr>\n",
       "      <th>1</th>\n",
       "      <td>October 17, 2022 10:22</td>\n",
       "      <td>4- morbide a forma di salsiccia o serpente</td>\n",
       "      <td>Marrone</td>\n",
       "      <td>No</td>\n",
       "      <td>No</td>\n",
       "      <td>Borborigmi</td>\n",
       "      <td>1.0</td>\n",
       "      <td>17/10 10:22</td>\n",
       "      <td>Enterolactis Plus, Valpinax</td>\n",
       "      <td>Eliminati cibi integrali, Eliminato caffè, Eli...</td>\n",
       "    </tr>\n",
       "    <tr>\n",
       "      <th>2</th>\n",
       "      <td>October 17, 2022 7:40</td>\n",
       "      <td>5- Frammenti morbidi con bordi ben definiti</td>\n",
       "      <td>Marrone</td>\n",
       "      <td>No</td>\n",
       "      <td>No</td>\n",
       "      <td>Nessuno</td>\n",
       "      <td>2.0</td>\n",
       "      <td>17/10 07:40</td>\n",
       "      <td>Enterolactis Plus, Valpinax</td>\n",
       "      <td>Eliminati cibi integrali, Eliminato caffè, Eli...</td>\n",
       "    </tr>\n",
       "    <tr>\n",
       "      <th>3</th>\n",
       "      <td>October 16, 2022 17:36</td>\n",
       "      <td>5- Frammenti morbidi con bordi ben definiti</td>\n",
       "      <td>Marrone</td>\n",
       "      <td>No</td>\n",
       "      <td>No</td>\n",
       "      <td>Nessuno</td>\n",
       "      <td>1.0</td>\n",
       "      <td>16/10 17:36</td>\n",
       "      <td>Enterolactis Plus, Valpinax</td>\n",
       "      <td>Aggiunto caffè, Eliminati cibi integrali, Elim...</td>\n",
       "    </tr>\n",
       "    <tr>\n",
       "      <th>4</th>\n",
       "      <td>October 16, 2022 15:05</td>\n",
       "      <td>4- morbide a forma di salsiccia o serpente</td>\n",
       "      <td>Marrone</td>\n",
       "      <td>No</td>\n",
       "      <td>No</td>\n",
       "      <td>Emorroidi?</td>\n",
       "      <td>1.0</td>\n",
       "      <td>16/10 15:05</td>\n",
       "      <td>Enterolactis Plus, Valpinax</td>\n",
       "      <td>Aggiunto caffè, Eliminati cibi integrali, Elim...</td>\n",
       "    </tr>\n",
       "  </tbody>\n",
       "</table>\n",
       "</div>"
      ],
      "text/plain": [
       "                     Date                                         Tipo  \\\n",
       "0  October 17, 2022 21:48  5- Frammenti morbidi con bordi ben definiti   \n",
       "1  October 17, 2022 10:22   4- morbide a forma di salsiccia o serpente   \n",
       "2   October 17, 2022 7:40  5- Frammenti morbidi con bordi ben definiti   \n",
       "3  October 16, 2022 17:36  5- Frammenti morbidi con bordi ben definiti   \n",
       "4  October 16, 2022 15:05   4- morbide a forma di salsiccia o serpente   \n",
       "\n",
       "    Colore Nastriformi? Meteorismo Altri sintomi  Numero evacuazioni  \\\n",
       "0  Marrone           No         No    Borborigmi                 1.0   \n",
       "1  Marrone           No         No    Borborigmi                 1.0   \n",
       "2  Marrone           No         No       Nessuno                 2.0   \n",
       "3  Marrone           No         No       Nessuno                 1.0   \n",
       "4  Marrone           No         No    Emorroidi?                 1.0   \n",
       "\n",
       "          Name                   Farmaci (da <12h)  \\\n",
       "0  17/10 21:48  Enterolactis Plus, VLS#3, Valpinax   \n",
       "1  17/10 10:22         Enterolactis Plus, Valpinax   \n",
       "2  17/10 07:40         Enterolactis Plus, Valpinax   \n",
       "3  16/10 17:36         Enterolactis Plus, Valpinax   \n",
       "4  16/10 15:05         Enterolactis Plus, Valpinax   \n",
       "\n",
       "                 Variazioni nella dieta (ultime 24h)  \n",
       "0  Eliminati cibi integrali, Eliminato caffè, Eli...  \n",
       "1  Eliminati cibi integrali, Eliminato caffè, Eli...  \n",
       "2  Eliminati cibi integrali, Eliminato caffè, Eli...  \n",
       "3  Aggiunto caffè, Eliminati cibi integrali, Elim...  \n",
       "4  Aggiunto caffè, Eliminati cibi integrali, Elim...  "
      ]
     },
     "execution_count": 37,
     "metadata": {},
     "output_type": "execute_result"
    }
   ],
   "source": [
    "df = pd.read_csv(csv_path)\n",
    "df.head()"
   ]
  },
  {
   "cell_type": "code",
   "execution_count": 38,
   "id": "69c81dea",
   "metadata": {},
   "outputs": [],
   "source": [
    "def convert(x):\n",
    "    try:\n",
    "        return pd.to_datetime(x, format='%B %d, %Y %H:%M')\n",
    "    except Exception:\n",
    "        try:\n",
    "            return pd.to_datetime(x, format='%B %d, %Y %H:%M (EDT)')\n",
    "        except Exception:\n",
    "            return pd.to_datetime(x, format='%B %d, %Y')\n",
    "\n",
    "df['Date'] = df['Date'].apply(convert) \n",
    "df = df.rename(columns={'Farmaci (da <12h)':'Farmaci', 'Variazioni nella dieta (ultime 24h)': 'Variazioni'})"
   ]
  },
  {
   "cell_type": "code",
   "execution_count": 39,
   "id": "836f341c",
   "metadata": {},
   "outputs": [],
   "source": [
    "type_to_number = {\n",
    "    '5- Frammenti morbidi con bordi ben definiti' : 5,\n",
    "    '4- morbide a forma di salsiccia o serpente' : 4,\n",
    "    '3- a salsiccia con crepe in superficie' : 3,\n",
    "    '6- Frammenti morbidi con bordi frastagliati' : 6,\n",
    "    '7- liquide senza pezzi solidi' : 7,\n",
    "    '2- a forma di salsiccia nodose' : 2,\n",
    "    '1- a palline feci caprine feci a scibala' : 1,\n",
    "    'Non determinato' : 0\n",
    "}\n",
    "\n",
    "number_to_type = {\n",
    "    5:'5- Frammenti morbidi con bordi ben definiti',\n",
    "    4:'4- morbide a forma di salsiccia o serpente',\n",
    "    3:'3- a salsiccia con crepe in superficie',\n",
    "    6:'6- Frammenti morbidi con bordi frastagliati',\n",
    "    7:'7- liquide senza pezzi solidi',\n",
    "    2:'2- a forma di salsiccia nodose',\n",
    "    1:'1- a palline feci caprine feci a scibala',\n",
    "    0:'Non determinato'\n",
    "}\n",
    "\n",
    "dd = df.copy()\n",
    "dd = dd.dropna(how='all')\n",
    "dd['Tipo'] = dd['Tipo'].apply(lambda x: type_to_number[x])\n",
    "dd = dd[dd['Tipo']>0]"
   ]
  },
  {
   "cell_type": "markdown",
   "id": "b805620c",
   "metadata": {},
   "source": [
    "## Plotting raw data"
   ]
  },
  {
   "cell_type": "code",
   "execution_count": 40,
   "id": "0472670d",
   "metadata": {},
   "outputs": [
    {
     "data": {
      "image/png": "[encoded data removed]",
      "text/plain": [
       "<Figure size 1600x900 with 1 Axes>"
      ]
     },
     "metadata": {},
     "output_type": "display_data"
    }
   ],
   "source": [
    "rr = dd[['Date','Tipo']]\n",
    "ax = rr.plot(x='Date', y='Tipo', kind='scatter',figsize=(16,9))\n",
    "plt.axhline(y = 2.5, color = 'g', linestyle = '-')\n",
    "plt.axhline(y = 4.5, color = 'g', linestyle = '-')\n",
    "ax.xaxis.set_major_locator(mdates.DayLocator(interval=2))\n",
    "ax.xaxis.set_major_formatter(mdates.DateFormatter('%d-%m'))\n",
    "plt.gcf().autofmt_xdate()\n"
   ]
  },
  {
   "cell_type": "markdown",
   "id": "0fc8d2c9",
   "metadata": {},
   "source": [
    "## Plotting type data"
   ]
  },
  {
   "cell_type": "markdown",
   "id": "1bed2e08",
   "metadata": {},
   "source": [
    "Rappresentazione del dataset in base relativamente al tipo (secondo la scala di Bristol) come classificato, raggruppato per date, conteggiando il numero di eventi di una determinata tipologia"
   ]
  },
  {
   "cell_type": "code",
   "execution_count": 41,
   "id": "0d6134cb",
   "metadata": {
    "scrolled": true
   },
   "outputs": [
    {
     "data": {
      "text/plain": [
       "<AxesSubplot:ylabel='Tipo'>"
      ]
     },
     "execution_count": 41,
     "metadata": {},
     "output_type": "execute_result"
    },
    {
     "data": {
      "image/png": "[encoded data removed]",
      "text/plain": [
       "<Figure size 640x480 with 1 Axes>"
      ]
     },
     "metadata": {},
     "output_type": "display_data"
    }
   ],
   "source": [
    "grouped_by_type = df.groupby('Tipo').count()\n",
    "grouped_by_type = grouped_by_type[['Date']]\n",
    "grouped_by_type.plot(kind='barh')"
   ]
  },
  {
   "cell_type": "markdown",
   "id": "4addf569",
   "metadata": {},
   "source": [
    "Riclassificazione dei dati considerando i tipi 1 e 2 come **stitichezza**, i tipi 3, 4, 5 come **normale** ed i tipi 6 e 7 come **diarrea**"
   ]
  },
  {
   "cell_type": "code",
   "execution_count": 42,
   "id": "be31f74f",
   "metadata": {},
   "outputs": [
    {
     "data": {
      "text/plain": [
       "<AxesSubplot:ylabel='Tipo'>"
      ]
     },
     "execution_count": 42,
     "metadata": {},
     "output_type": "execute_result"
    },
    {
     "data": {
      "image/png": "[encoded data removed]",
      "text/plain": [
       "<Figure size 640x480 with 1 Axes>"
      ]
     },
     "metadata": {},
     "output_type": "display_data"
    }
   ],
   "source": [
    "bucketed_by_type = dd.copy()\n",
    "\n",
    "def classify(x):\n",
    "    if x < 3: \n",
    "        return 'Stitichezza'\n",
    "    elif x < 6: \n",
    "        return 'Normale'\n",
    "    else:\n",
    "        return 'Diarrea'\n",
    "\n",
    "bucketed_by_type['Tipo'] = bucketed_by_type['Tipo'].apply(classify)\n",
    "bucketed_by_type = bucketed_by_type.groupby('Tipo').count()\n",
    "bucketed_by_type = bucketed_by_type[['Date']]\n",
    "bucketed_by_type.plot(kind='barh')"
   ]
  },
  {
   "cell_type": "markdown",
   "id": "488761fb",
   "metadata": {},
   "source": [
    "Se il tipo 5 (Frammenti morbidi con bordi ben definiti) viene considerato come principio di diarrea, il grafico cambia come segue"
   ]
  },
  {
   "cell_type": "code",
   "execution_count": 43,
   "id": "0fae3f82",
   "metadata": {
    "scrolled": true
   },
   "outputs": [
    {
     "data": {
      "text/plain": [
       "<AxesSubplot:ylabel='Tipo'>"
      ]
     },
     "execution_count": 43,
     "metadata": {},
     "output_type": "execute_result"
    },
    {
     "data": {
      "image/png": "[encoded data removed]",
      "text/plain": [
       "<Figure size 640x480 with 1 Axes>"
      ]
     },
     "metadata": {},
     "output_type": "display_data"
    }
   ],
   "source": [
    "bucketed_by_type = dd.copy()\n",
    "\n",
    "def classify(x):\n",
    "    if x < 3: \n",
    "        return 'Stitichezza'\n",
    "    elif x < 5: \n",
    "        return 'Normale'\n",
    "    else:\n",
    "        return 'Diarrea'\n",
    "\n",
    "bucketed_by_type['Tipo'] = bucketed_by_type['Tipo'].apply(classify)\n",
    "bucketed_by_type = bucketed_by_type.groupby('Tipo').count()\n",
    "bucketed_by_type = bucketed_by_type[['Date']]\n",
    "bucketed_by_type.plot(kind='barh')"
   ]
  },
  {
   "cell_type": "markdown",
   "id": "1d462545",
   "metadata": {},
   "source": [
    "## Analisi dei dati"
   ]
  },
  {
   "cell_type": "markdown",
   "id": "3ede3721",
   "metadata": {},
   "source": [
    "Classificazione dei dati in base alla data dell'evento"
   ]
  },
  {
   "cell_type": "code",
   "execution_count": 44,
   "id": "83834c33",
   "metadata": {},
   "outputs": [
    {
     "name": "stdout",
     "output_type": "stream",
     "text": [
      "La tipologia più frequente è 5- Frammenti morbidi con bordi ben definiti\n"
     ]
    }
   ],
   "source": [
    "median = dd['Tipo'].median()\n",
    "print(f'La tipologia più frequente è {number_to_type[median]}')"
   ]
  },
  {
   "cell_type": "code",
   "execution_count": 68,
   "id": "fbd045cb",
   "metadata": {},
   "outputs": [],
   "source": [
    "byDate = dd.copy()\n",
    "byDate['Date'] = byDate['Date'].dt.date\n",
    "bd = byDate.groupby('Date')['Tipo'].max()\n",
    "bd = bd.reset_index()\n",
    "days_w_diarrhea = bd[bd['Tipo']>5]['Date'].count()\n",
    "days_w_normal = bd[(bd['Tipo']<6) & (bd['Tipo']>2)]['Date'].count()"
   ]
  },
  {
   "cell_type": "code",
   "execution_count": 69,
   "id": "1394f4f1",
   "metadata": {},
   "outputs": [
    {
     "name": "stdout",
     "output_type": "stream",
     "text": [
      "Su un totale di 50 giorni si sono verificati 26 con alvo normale, 24 con almeno un episodio di diarrea.\n",
      "Considerando il tipo 5 come appartenente al gruppo normale\n"
     ]
    }
   ],
   "source": [
    "print(f'Su un totale di {len(bd)} giorni si sono verificati '\n",
    "      f'{days_w_normal} con alvo normale, '\n",
    "      f'{days_w_diarrhea} con almeno un episodio di diarrea.\\n'\n",
    "      f'Considerando il tipo 5 come appartenente al gruppo normale')"
   ]
  },
  {
   "cell_type": "code",
   "execution_count": 96,
   "id": "d336029d",
   "metadata": {},
   "outputs": [],
   "source": []
  },
  {
   "cell_type": "code",
   "execution_count": 133,
   "id": "9a772013",
   "metadata": {},
   "outputs": [],
   "source": [
    "def plot_medicine(medicine):\n",
    "    fa = df.copy()\n",
    "    fa['Farmaci'] = fa['Farmaci'].dropna()\n",
    "\n",
    "    def fi(x): \n",
    "        try:\n",
    "            print(x)\n",
    "            return x.find(medicine) >0\n",
    "        except:\n",
    "            return False\n",
    "\n",
    "    fa[medicine] = fa['Farmaci'].apply(fi)\n",
    "    print(fa[medicine].count())\n",
    "    dfa = fa[fa[medicine]]\n",
    "\n",
    "    dfa = dfa.set_index('Date')\n",
    "    dfa = dfa['Tipo']\n",
    "    dfa = dfa.reset_index()\n",
    "    dfa['Tipo'] = dfa['Tipo'].apply(lambda x: type_to_number[x])\n",
    "    ax = dfa.plot(x='Date', y='Tipo', kind='scatter',figsize=(16,9))\n",
    "    plt.axhline(y = 2.5, color = 'g', linestyle = '-')\n",
    "    plt.axhline(y = 4.5, color = 'g', linestyle = '-')\n",
    "    ax.xaxis.set_major_locator(mdates.DayLocator(interval=1))\n",
    "    ax.xaxis.set_major_formatter(mdates.DateFormatter('%d-%m-%Y'))\n",
    "    plt.gcf().autofmt_xdate()\n",
    "    plt.ylim([1,7])"
   ]
  },
  {
   "cell_type": "code",
   "execution_count": 129,
   "id": "b766dbc9",
   "metadata": {},
   "outputs": [
    {
     "name": "stdout",
     "output_type": "stream",
     "text": [
      "10\n"
     ]
    },
    {
     "data": {
      "image/png": "[encoded data removed]",
      "text/plain": [
       "<Figure size 1600x900 with 1 Axes>"
      ]
     },
     "metadata": {},
     "output_type": "display_data"
    }
   ],
   "source": [
    "plot_medicine('Valpinax')"
   ]
  },
  {
   "cell_type": "code",
   "execution_count": 134,
   "id": "7e7156e8",
   "metadata": {},
   "outputs": [
    {
     "name": "stdout",
     "output_type": "stream",
     "text": [
      "Enterolactis Plus, VLS#3, Valpinax\n",
      "Enterolactis Plus, Valpinax\n",
      "Enterolactis Plus, Valpinax\n",
      "Enterolactis Plus, Valpinax\n",
      "Enterolactis Plus, Valpinax\n",
      "Enterolactis Plus, Valpinax\n",
      "Enterolactis Plus, VLS#3, Valpinax\n",
      "Enterolactis Plus, Valpinax\n",
      "Enterolactis Plus, Valpinax\n",
      "Valpinax\n",
      "Valpinax\n",
      "Valpinax\n",
      "Valpinax\n",
      "Valpinax\n",
      "VLS#3, Valpinax\n",
      "Valpinax\n",
      "Valpinax\n",
      "nan\n",
      "nan\n",
      "Nessuno\n",
      "Nessuno\n",
      "Nessuno\n",
      "Nessuno\n",
      "Nessuno\n",
      "VLS#3\n",
      "Nessuno\n",
      "VLS#3\n",
      "VLS#3\n",
      "VLS#3\n",
      "VLS#3\n",
      "VLS#3\n",
      "VLS#3\n",
      "Enterolactis Plus, VLS#3\n",
      "VLS#3\n",
      "VLS#3\n",
      "VLS#3\n",
      "VLS#3\n",
      "VLS#3\n",
      "VLS#3\n",
      "VLS#3\n",
      "Carbone vegetale\n",
      "Carbone vegetale\n",
      "VLS#3\n",
      "VLS#3\n",
      "VLS#3\n",
      "VLS#3\n",
      "VLS#3\n",
      "VLS#3\n",
      "Levopraid, VLS#3\n",
      "Levopraid, VLS#3\n",
      "Levopraid, VLS#3\n",
      "Levopraid, Maalox, VLS#3\n",
      "Levopraid, Maalox, VLS#3\n",
      "Levopraid, VLS#3\n",
      "VLS#3\n",
      "VLS#3\n",
      "VLS#3\n",
      "Nessuno\n",
      "Nessuno\n",
      "Nessuno\n",
      "nan\n",
      "Levopraid\n",
      "Levopraid\n",
      "Levopraid\n",
      "Levopraid\n",
      "Levopraid\n",
      "Levopraid\n",
      "Levopraid\n",
      "Levopraid\n",
      "Nessuno\n",
      "Nessuno\n",
      "Ibuprofene, Levopraid\n",
      "Ibuprofene, Levopraid\n",
      "Ibuprofene, Levopraid\n",
      "Ibuprofene, Levopraid\n",
      "Levopraid\n",
      "Nessuno\n",
      "Nessuno\n",
      "Levopraid\n",
      "Daflon, Levopraid\n",
      "Daflon, Levopraid\n",
      "Daflon, Levopraid\n",
      "Daflon, Levopraid\n",
      "Daflon, Levopraid\n",
      "Levopraid\n",
      "Levopraid\n",
      "Nessuno\n",
      "Nessuno\n",
      "Levopraid\n",
      "Daflon, Levopraid\n",
      "Levopraid\n",
      "Nessuno\n",
      "Daflon, Enterolactis Plus, Normix (2cp)\n",
      "Daflon, Enterolactis Plus, Normix (2cp)\n",
      "Daflon, Enterolactis Plus, Normix (2cp)\n",
      "Daflon, Enterolactis Plus, Normix (2cp)\n",
      "Daflon, Enterolactis Plus, Normix (2cp)\n",
      "Daflon, Enterolactis Plus, Normix (2cp)\n",
      "Daflon, Normix (2cp)\n",
      "Daflon, Normix (2cp)\n",
      "Daflon, Enterolactis Plus, Normix (2cp)\n",
      "Enterolactis Plus, Normix (2cp)\n",
      "Normix (2cp)\n",
      "Enterolactis Plus, Normix (2cp)\n",
      "Enterolactis Plus, Normix (1cp)\n",
      "Daflon, Enterolactis Plus\n",
      "Daflon, Enterolactis Plus, Normix (2cp)\n",
      "Enterolactis Plus, Normix (2cp)\n",
      "Normix (2cp)\n",
      "Nessuno\n",
      "Daflon\n",
      "Daflon\n",
      "Daflon\n",
      "Nessuno\n",
      "Nessuno\n",
      "Nessuno\n",
      "Nessuno\n",
      "Imodium\n",
      "Nessuno\n",
      "Nessuno\n",
      "Nessuno\n",
      "Nessuno\n",
      "Nessuno\n",
      "Nessuno\n",
      "Nessuno\n",
      "Nessuno\n",
      "Nessuno\n",
      "Levopraid\n",
      "Levopraid\n",
      "Nessuno\n",
      "nan\n",
      "10\n"
     ]
    },
    {
     "data": {
      "image/png": "[encoded data removed]",
      "text/plain": [
       "<Figure size 1600x900 with 1 Axes>"
      ]
     },
     "metadata": {},
     "output_type": "display_data"
    }
   ],
   "source": [
    "plot_medicine('Levopraid')"
   ]
  },
  {
   "cell_type": "code",
   "execution_count": 132,
   "id": "a010c8a7",
   "metadata": {},
   "outputs": [
    {
     "data": {
      "text/html": [
       "<div>\n",
       "<style scoped>\n",
       "    .dataframe tbody tr th:only-of-type {\n",
       "        vertical-align: middle;\n",
       "    }\n",
       "\n",
       "    .dataframe tbody tr th {\n",
       "        vertical-align: top;\n",
       "    }\n",
       "\n",
       "    .dataframe thead th {\n",
       "        text-align: right;\n",
       "    }\n",
       "</style>\n",
       "<table border=\"1\" class=\"dataframe\">\n",
       "  <thead>\n",
       "    <tr style=\"text-align: right;\">\n",
       "      <th></th>\n",
       "      <th>Date</th>\n",
       "      <th>Tipo</th>\n",
       "      <th>Colore</th>\n",
       "      <th>Nastriformi?</th>\n",
       "      <th>Meteorismo</th>\n",
       "      <th>Altri sintomi</th>\n",
       "      <th>Numero evacuazioni</th>\n",
       "      <th>Name</th>\n",
       "      <th>Farmaci</th>\n",
       "      <th>Variazioni</th>\n",
       "    </tr>\n",
       "  </thead>\n",
       "  <tbody>\n",
       "    <tr>\n",
       "      <th>0</th>\n",
       "      <td>2022-10-17 21:48:00</td>\n",
       "      <td>5- Frammenti morbidi con bordi ben definiti</td>\n",
       "      <td>Marrone</td>\n",
       "      <td>No</td>\n",
       "      <td>No</td>\n",
       "      <td>Borborigmi</td>\n",
       "      <td>1.0</td>\n",
       "      <td>17/10 21:48</td>\n",
       "      <td>Enterolactis Plus, VLS#3, Valpinax</td>\n",
       "      <td>Eliminati cibi integrali, Eliminato caffè, Eli...</td>\n",
       "    </tr>\n",
       "    <tr>\n",
       "      <th>1</th>\n",
       "      <td>2022-10-17 10:22:00</td>\n",
       "      <td>4- morbide a forma di salsiccia o serpente</td>\n",
       "      <td>Marrone</td>\n",
       "      <td>No</td>\n",
       "      <td>No</td>\n",
       "      <td>Borborigmi</td>\n",
       "      <td>1.0</td>\n",
       "      <td>17/10 10:22</td>\n",
       "      <td>Enterolactis Plus, Valpinax</td>\n",
       "      <td>Eliminati cibi integrali, Eliminato caffè, Eli...</td>\n",
       "    </tr>\n",
       "    <tr>\n",
       "      <th>2</th>\n",
       "      <td>2022-10-17 07:40:00</td>\n",
       "      <td>5- Frammenti morbidi con bordi ben definiti</td>\n",
       "      <td>Marrone</td>\n",
       "      <td>No</td>\n",
       "      <td>No</td>\n",
       "      <td>Nessuno</td>\n",
       "      <td>2.0</td>\n",
       "      <td>17/10 07:40</td>\n",
       "      <td>Enterolactis Plus, Valpinax</td>\n",
       "      <td>Eliminati cibi integrali, Eliminato caffè, Eli...</td>\n",
       "    </tr>\n",
       "    <tr>\n",
       "      <th>3</th>\n",
       "      <td>2022-10-16 17:36:00</td>\n",
       "      <td>5- Frammenti morbidi con bordi ben definiti</td>\n",
       "      <td>Marrone</td>\n",
       "      <td>No</td>\n",
       "      <td>No</td>\n",
       "      <td>Nessuno</td>\n",
       "      <td>1.0</td>\n",
       "      <td>16/10 17:36</td>\n",
       "      <td>Enterolactis Plus, Valpinax</td>\n",
       "      <td>Aggiunto caffè, Eliminati cibi integrali, Elim...</td>\n",
       "    </tr>\n",
       "    <tr>\n",
       "      <th>4</th>\n",
       "      <td>2022-10-16 15:05:00</td>\n",
       "      <td>4- morbide a forma di salsiccia o serpente</td>\n",
       "      <td>Marrone</td>\n",
       "      <td>No</td>\n",
       "      <td>No</td>\n",
       "      <td>Emorroidi?</td>\n",
       "      <td>1.0</td>\n",
       "      <td>16/10 15:05</td>\n",
       "      <td>Enterolactis Plus, Valpinax</td>\n",
       "      <td>Aggiunto caffè, Eliminati cibi integrali, Elim...</td>\n",
       "    </tr>\n",
       "    <tr>\n",
       "      <th>...</th>\n",
       "      <td>...</td>\n",
       "      <td>...</td>\n",
       "      <td>...</td>\n",
       "      <td>...</td>\n",
       "      <td>...</td>\n",
       "      <td>...</td>\n",
       "      <td>...</td>\n",
       "      <td>...</td>\n",
       "      <td>...</td>\n",
       "      <td>...</td>\n",
       "    </tr>\n",
       "    <tr>\n",
       "      <th>126</th>\n",
       "      <td>2022-08-27 09:00:00</td>\n",
       "      <td>5- Frammenti morbidi con bordi ben definiti</td>\n",
       "      <td>Marrone chiaro</td>\n",
       "      <td>In parte</td>\n",
       "      <td>Sotto ombelico</td>\n",
       "      <td>Ano che punge, Incompleto svuotamento , Indole...</td>\n",
       "      <td>3.0</td>\n",
       "      <td>27 mattina</td>\n",
       "      <td>Nessuno</td>\n",
       "      <td>Non noto</td>\n",
       "    </tr>\n",
       "    <tr>\n",
       "      <th>127</th>\n",
       "      <td>2022-08-26 08:00:00</td>\n",
       "      <td>5- Frammenti morbidi con bordi ben definiti</td>\n",
       "      <td>Marrone scuro</td>\n",
       "      <td>No</td>\n",
       "      <td>DX, Sopra ombelico, Sotto ombelico</td>\n",
       "      <td>Borborigmi</td>\n",
       "      <td>NaN</td>\n",
       "      <td>26 mattina</td>\n",
       "      <td>Levopraid</td>\n",
       "      <td>Non noto</td>\n",
       "    </tr>\n",
       "    <tr>\n",
       "      <th>128</th>\n",
       "      <td>2022-08-25 22:00:00</td>\n",
       "      <td>6- Frammenti morbidi con bordi frastagliati</td>\n",
       "      <td>Marrone chiaro</td>\n",
       "      <td>No</td>\n",
       "      <td>No</td>\n",
       "      <td>Ano che punge, Borborigmi</td>\n",
       "      <td>NaN</td>\n",
       "      <td>25 sera</td>\n",
       "      <td>Levopraid</td>\n",
       "      <td>Non noto</td>\n",
       "    </tr>\n",
       "    <tr>\n",
       "      <th>129</th>\n",
       "      <td>2022-08-18 08:00:00</td>\n",
       "      <td>6- Frammenti morbidi con bordi frastagliati</td>\n",
       "      <td>Marrone chiaro</td>\n",
       "      <td>No</td>\n",
       "      <td>No</td>\n",
       "      <td>Borborigmi</td>\n",
       "      <td>2.0</td>\n",
       "      <td>18 ago</td>\n",
       "      <td>Nessuno</td>\n",
       "      <td>Non noto</td>\n",
       "    </tr>\n",
       "    <tr>\n",
       "      <th>130</th>\n",
       "      <td>NaT</td>\n",
       "      <td>NaN</td>\n",
       "      <td>NaN</td>\n",
       "      <td>NaN</td>\n",
       "      <td>NaN</td>\n",
       "      <td>NaN</td>\n",
       "      <td>NaN</td>\n",
       "      <td>NaN</td>\n",
       "      <td>NaN</td>\n",
       "      <td>NaN</td>\n",
       "    </tr>\n",
       "  </tbody>\n",
       "</table>\n",
       "<p>131 rows × 10 columns</p>\n",
       "</div>"
      ],
      "text/plain": [
       "                   Date                                         Tipo  \\\n",
       "0   2022-10-17 21:48:00  5- Frammenti morbidi con bordi ben definiti   \n",
       "1   2022-10-17 10:22:00   4- morbide a forma di salsiccia o serpente   \n",
       "2   2022-10-17 07:40:00  5- Frammenti morbidi con bordi ben definiti   \n",
       "3   2022-10-16 17:36:00  5- Frammenti morbidi con bordi ben definiti   \n",
       "4   2022-10-16 15:05:00   4- morbide a forma di salsiccia o serpente   \n",
       "..                  ...                                          ...   \n",
       "126 2022-08-27 09:00:00  5- Frammenti morbidi con bordi ben definiti   \n",
       "127 2022-08-26 08:00:00  5- Frammenti morbidi con bordi ben definiti   \n",
       "128 2022-08-25 22:00:00  6- Frammenti morbidi con bordi frastagliati   \n",
       "129 2022-08-18 08:00:00  6- Frammenti morbidi con bordi frastagliati   \n",
       "130                 NaT                                          NaN   \n",
       "\n",
       "             Colore Nastriformi?                          Meteorismo  \\\n",
       "0           Marrone           No                                  No   \n",
       "1           Marrone           No                                  No   \n",
       "2           Marrone           No                                  No   \n",
       "3           Marrone           No                                  No   \n",
       "4           Marrone           No                                  No   \n",
       "..              ...          ...                                 ...   \n",
       "126  Marrone chiaro     In parte                      Sotto ombelico   \n",
       "127   Marrone scuro           No  DX, Sopra ombelico, Sotto ombelico   \n",
       "128  Marrone chiaro           No                                  No   \n",
       "129  Marrone chiaro           No                                  No   \n",
       "130             NaN          NaN                                 NaN   \n",
       "\n",
       "                                         Altri sintomi  Numero evacuazioni  \\\n",
       "0                                           Borborigmi                 1.0   \n",
       "1                                           Borborigmi                 1.0   \n",
       "2                                              Nessuno                 2.0   \n",
       "3                                              Nessuno                 1.0   \n",
       "4                                           Emorroidi?                 1.0   \n",
       "..                                                 ...                 ...   \n",
       "126  Ano che punge, Incompleto svuotamento , Indole...                 3.0   \n",
       "127                                         Borborigmi                 NaN   \n",
       "128                          Ano che punge, Borborigmi                 NaN   \n",
       "129                                         Borborigmi                 2.0   \n",
       "130                                                NaN                 NaN   \n",
       "\n",
       "            Name                             Farmaci  \\\n",
       "0    17/10 21:48  Enterolactis Plus, VLS#3, Valpinax   \n",
       "1    17/10 10:22         Enterolactis Plus, Valpinax   \n",
       "2    17/10 07:40         Enterolactis Plus, Valpinax   \n",
       "3    16/10 17:36         Enterolactis Plus, Valpinax   \n",
       "4    16/10 15:05         Enterolactis Plus, Valpinax   \n",
       "..           ...                                 ...   \n",
       "126  27 mattina                              Nessuno   \n",
       "127   26 mattina                           Levopraid   \n",
       "128      25 sera                           Levopraid   \n",
       "129       18 ago                             Nessuno   \n",
       "130          NaN                                 NaN   \n",
       "\n",
       "                                            Variazioni  \n",
       "0    Eliminati cibi integrali, Eliminato caffè, Eli...  \n",
       "1    Eliminati cibi integrali, Eliminato caffè, Eli...  \n",
       "2    Eliminati cibi integrali, Eliminato caffè, Eli...  \n",
       "3    Aggiunto caffè, Eliminati cibi integrali, Elim...  \n",
       "4    Aggiunto caffè, Eliminati cibi integrali, Elim...  \n",
       "..                                                 ...  \n",
       "126                                           Non noto  \n",
       "127                                           Non noto  \n",
       "128                                           Non noto  \n",
       "129                                           Non noto  \n",
       "130                                                NaN  \n",
       "\n",
       "[131 rows x 10 columns]"
      ]
     },
     "execution_count": 132,
     "metadata": {},
     "output_type": "execute_result"
    }
   ],
   "source": [
    "df"
   ]
  },
  {
   "cell_type": "code",
   "execution_count": null,
   "id": "7b7a0589",
   "metadata": {},
   "outputs": [],
   "source": []
  }
 ],
 "metadata": {
  "kernelspec": {
   "display_name": "Python 3 (ipykernel)",
   "language": "python",
   "name": "python3"
  },
  "language_info": {
   "codemirror_mode": {
    "name": "ipython",
    "version": 3
   },
   "file_extension": ".py",
   "mimetype": "text/x-python",
   "name": "python",
   "nbconvert_exporter": "python",
   "pygments_lexer": "ipython3",
   "version": "3.9.13"
  }
 },
 "nbformat": 4,
 "nbformat_minor": 5
}
